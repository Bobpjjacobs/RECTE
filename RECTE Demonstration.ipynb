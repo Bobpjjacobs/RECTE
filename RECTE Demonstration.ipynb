{
 "cells": [
  {
   "cell_type": "markdown",
   "metadata": {},
   "source": [
    "# Demonstration of charge trapping and ramp effect in HST/WFC3\n",
    "\n",
    "Following is a demonstration of RECTE, a physically-motivated model for the charge trapping/ramp effect. \n",
    "\n",
    "Ramp effect is the most prominent systematics for WFC3/IR detector (as well as other HgCdTe based detectors) in the time-series observation mode. It appears as an exponentially-rising ($exp(-t)$) shaped light curve. The typcial amplitude for the ramp is on the order of 1% in the first orbit and reduces to less than 0.5% for the subsequent orbit. Ramp effect systematics removal is critical for accurately measuring transit depths and spectra for transitting exoplanets\n",
    "\n",
    "In Zhou et al. (2017), we consider the charge trapping processes in the WFC3/IR detector and created RECTE. The essense of RECTE is that a fraction of stmulated charges (by incoming radiation) are trapped by in the detector rather than being detected due to detector defects.\n",
    "\n",
    "Describe the parameters\n",
    "\n",
    "Following demonstration consists of two parts. The first part is to demonstrate how parameters that descriebe the intrument defects affect the shape of the ramp. The second part is to demonstrate how parameters that related to each observation can affect the ramp profile."
   ]
  },
  {
   "cell_type": "code",
   "execution_count": 1,
   "metadata": {},
   "outputs": [],
   "source": [
    "import ipywidgets as widgets\n",
    "from ipywidgets import interactive\n",
    "import matplotlib.pyplot as plt\n",
    "import numpy as np\n",
    "from rampLightCurve import rampModel, rampCorrection\n",
    "\n",
    "%matplotlib notebook"
   ]
  },
  {
   "cell_type": "markdown",
   "metadata": {},
   "source": [
    "## Demonstration 1"
   ]
  },
  {
   "cell_type": "code",
   "execution_count": 2,
   "metadata": {},
   "outputs": [
    {
     "data": {
      "application/vnd.jupyter.widget-view+json": {
       "model_id": "0547513a873b4c1b85db2e3bd00fd4f3",
       "version_major": 2,
       "version_minor": 0
      },
      "text/plain": [
       "interactive(children=(FloatText(value=1500.0, description='slow N', step=100.0), FloatText(value=0.012, descri…"
      ]
     },
     "metadata": {},
     "output_type": "display_data"
    },
    {
     "data": {
      "text/plain": [
       "<Figure size 432x288 with 0 Axes>"
      ]
     },
     "metadata": {},
     "output_type": "display_data"
    }
   ],
   "source": [
    "def rampModelPlot(\n",
    "    nTrap_s,\n",
    "    eta_s,\n",
    "    tau_s,\n",
    "    nTrap_f,\n",
    "    eta_f,\n",
    "    tau_f):\n",
    "    crate = 200  # electron per second\n",
    "    exptime = 100  # second\n",
    "    lc, t = rampCorrection(\n",
    "        nTrap_s,\n",
    "        eta_s,\n",
    "        tau_s,\n",
    "        nTrap_f,\n",
    "        eta_f,\n",
    "        tau_f,\n",
    "        crate,\n",
    "        exptime\n",
    "    )\n",
    "    fig = plt.gcf()\n",
    "    plt.cla()\n",
    "    plt.plot(t, lc, 'o')\n",
    "    plt.xlabel('Time [s]')\n",
    "    plt.ylabel('Flux count [e]')\n",
    "    plt.ylim(crate*exptime * 0.98, crate*exptime*1.003)\n",
    "    plt.draw()\n",
    "    \n",
    "trap_s = widgets.FloatText(min=1000, max=3000, value=1500, step=100, \n",
    "                           description='slow N')\n",
    "trap_f = widgets.FloatText(min=50, max=500, value=300, step=50, \n",
    "                           description='fast N')\n",
    "eta_s = widgets.FloatText(min=0.005, max=0.02, value=0.012, step=0.001, \n",
    "                           description='slow eta')\n",
    "eta_f = widgets.FloatText(min=0.001, max=0.01, value=0.005, step=0.001, \n",
    "                           description='fast eta')\n",
    "tau_s = widgets.FloatText(min=6000, max=30000, value=15000, step=2000, \n",
    "                           description='slow tau')\n",
    "tau_f = widgets.FloatText(min=50, max=500, value=200, step=50, \n",
    "                           description='fast tau')\n",
    "\n",
    "plt.figure()\n",
    "interactive_plot = interactive(rampModelPlot,\n",
    "                               nTrap_s=trap_s,\n",
    "                               eta_s=eta_s,\n",
    "                               tau_s=tau_s,\n",
    "                               nTrap_f=trap_f,\n",
    "                               eta_f=eta_f,\n",
    "                               tau_f=tau_f,\n",
    "                               continuous_update=False)\n",
    "output = interactive_plot.children[-1]\n",
    "output.layout.height = '350px'\n",
    "interactive_plot"
   ]
  },
  {
   "cell_type": "markdown",
   "metadata": {},
   "source": [
    "## Demonstration 2"
   ]
  },
  {
   "cell_type": "code",
   "execution_count": 3,
   "metadata": {},
   "outputs": [
    {
     "data": {
      "application/vnd.jupyter.widget-view+json": {
       "model_id": "f22e1185cb4c483dac7e69da3007fc86",
       "version_major": 2,
       "version_minor": 0
      },
      "text/plain": [
       "interactive(children=(FloatSlider(value=50.0, description='slow initial', max=500.0, step=50.0), FloatSlider(v…"
      ]
     },
     "metadata": {},
     "output_type": "display_data"
    },
    {
     "data": {
      "text/plain": [
       "<Figure size 432x288 with 0 Axes>"
      ]
     },
     "metadata": {},
     "output_type": "display_data"
    }
   ],
   "source": [
    "def rampCorrectionPlot(\n",
    "    trap_pop_s,\n",
    "    trap_pop_f,\n",
    "    dTrap_s,\n",
    "    dTrap_f):\n",
    "    crate = 200  # electron per second\n",
    "    exptime = 100  # second\n",
    "    lc, t = rampCorrection(\n",
    "        crate,\n",
    "        exptime,\n",
    "        trap_pop_s,\n",
    "        trap_pop_f,\n",
    "        dTrap_s,\n",
    "        dTrap_f,\n",
    "    )\n",
    "    fig = plt.gcf()\n",
    "    plt.cla()\n",
    "    plt.plot(t, lc, 'o')\n",
    "    plt.xlabel('Time [s]')\n",
    "    plt.ylabel('Flux count [e]')\n",
    "    plt.ylim(crate*exptime * 0.98, crate*exptime*1.003)\n",
    "    plt.draw()\n",
    "    \n",
    "trap_pop_s = widgets.FloatSlider(min=0, max=500, value=50, step=50, \n",
    "                           description='slow initial')\n",
    "trap_pop_f = widgets.FloatSlider(min=0, max=100, value=10, step=10, \n",
    "                           description='fast initial')\n",
    "dTrap_s = widgets.FloatSlider(min=0, max=500, value=0, step=50, \n",
    "                           description='slow extra')\n",
    "dTrap_f = widgets.FloatSlider(min=0, max=100, value=0, step=10, \n",
    "                           description='fast extra')\n",
    "\n",
    "plt.figure()\n",
    "interactive_plot = interactive(rampCorrectionPlot,\n",
    "                               trap_pop_s=trap_pop_s,\n",
    "                               trap_pop_f=trap_pop_f,\n",
    "                               dTrap_s=dTrap_s,\n",
    "                               dTrap_f=dTrap_f,\n",
    "                               continuous_update=False)\n",
    "output = interactive_plot.children[-1]\n",
    "output.layout.height = '350px'\n",
    "interactive_plot"
   ]
  },
  {
   "cell_type": "code",
   "execution_count": null,
   "metadata": {},
   "outputs": [],
   "source": []
  }
 ],
 "metadata": {
  "kernelspec": {
   "display_name": "Python 3",
   "language": "python",
   "name": "python3"
  },
  "language_info": {
   "codemirror_mode": {
    "name": "ipython",
    "version": 3
   },
   "file_extension": ".py",
   "mimetype": "text/x-python",
   "name": "python",
   "nbconvert_exporter": "python",
   "pygments_lexer": "ipython3",
   "version": "3.6.8"
  }
 },
 "nbformat": 4,
 "nbformat_minor": 2
}
